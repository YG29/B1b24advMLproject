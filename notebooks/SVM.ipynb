{
 "cells": [
  {
   "cell_type": "code",
   "id": "initial_id",
   "metadata": {
    "collapsed": true,
    "ExecuteTime": {
     "end_time": "2025-02-01T15:13:24.857564Z",
     "start_time": "2025-02-01T15:13:24.853709Z"
    }
   },
   "source": [
    "import numpy as np\n",
    "from tensorflow.keras.datasets import mnist\n",
    "from sklearn.model_selection import train_test_split, GridSearchCV, PredefinedSplit, learning_curve\n",
    "from sklearn.preprocessing import StandardScaler\n",
    "from sklearn.pipeline import Pipeline\n",
    "from sklearn.base import BaseEstimator, TransformerMixin\n",
    "from sklearn.svm import LinearSVC, SVC\n",
    "from sklearn.metrics import classification_report, ConfusionMatrixDisplay\n",
    "import matplotlib.pyplot as plt\n",
    "import seaborn as sns\n",
    "from skimage.feature import hog\n",
    "from sklearn.utils import shuffle\n",
    "import torch\n",
    "from torch.utils.data import Dataset, DataLoader\n",
    "from tqdm import tqdm\n",
    "import time\n"
   ],
   "outputs": [],
   "execution_count": 35
  },
  {
   "metadata": {
    "ExecuteTime": {
     "end_time": "2025-02-01T13:59:03.978216Z",
     "start_time": "2025-02-01T13:59:03.709323Z"
    }
   },
   "cell_type": "code",
   "source": [
    "# Loading MNIST dataset\n",
    "(x_train, y_train), (x_test, y_test) = mnist.load_data()\n",
    "print('MNIST data loaded')\n",
    "\n",
    "# Reshape the data\n",
    "X_train = x_train.reshape(x_train.shape[0], -1)\n",
    "X_test = x_test.reshape(x_test.shape[0], -1)\n",
    "\n",
    "# Normalize\n",
    "X_train = X_train.astype('float32') / 255\n",
    "X_test = X_test.astype('float32') / 255\n",
    "\n",
    "# Display sample images\n",
    "print('Five sample data')\n",
    "plt.figure(figsize=(15, 5))\n",
    "for i in range(5):\n",
    "    plt.subplot(1, 5, i+1)\n",
    "    plt.imshow(X_train[i].reshape(28, 28), cmap='gray')\n",
    "    plt.title(f'Digit: {y_train[i]}')\n",
    "    plt.axis('off')\n",
    "plt.show()"
   ],
   "id": "5efcd3d4f575472b",
   "outputs": [
    {
     "name": "stdout",
     "output_type": "stream",
     "text": [
      "MNIST data loaded\n",
      "Five sample data\n"
     ]
    },
    {
     "data": {
      "text/plain": [
       "<Figure size 1500x500 with 5 Axes>"
      ],
      "image/png": "[encoded data removed]"
     },
     "metadata": {},
     "output_type": "display_data"
    }
   ],
   "execution_count": 12
  },
  {
   "metadata": {
    "ExecuteTime": {
     "end_time": "2025-02-01T14:52:27.417623Z",
     "start_time": "2025-02-01T14:52:27.412763Z"
    }
   },
   "cell_type": "code",
   "source": "print(x_train[1].shape)",
   "id": "4984c3ae2f77cbe8",
   "outputs": [
    {
     "name": "stdout",
     "output_type": "stream",
     "text": [
      "(28, 28)\n"
     ]
    }
   ],
   "execution_count": 25
  },
  {
   "metadata": {
    "ExecuteTime": {
     "end_time": "2025-02-01T13:59:27.741089Z",
     "start_time": "2025-02-01T13:59:27.431917Z"
    }
   },
   "cell_type": "code",
   "source": [
    "# Split training data into train and validation sets\n",
    "X_train, X_val, y_train, y_val = train_test_split(\n",
    "    X_train, y_train, test_size=0.2, random_state=192\n",
    ")\n",
    "\n",
    "# Normalize data\n",
    "scaler = StandardScaler()\n",
    "X_train_scaled = scaler.fit_transform(X_train)\n",
    "X_val_scaled = scaler.transform(X_val)\n",
    "X_test_scaled = scaler.transform(X_test)\n",
    "\n",
    "print(f\"Training set shape: {X_train_scaled.shape}\")\n",
    "print(f\"Validation set shape: {X_val_scaled.shape}\")\n",
    "print(f\"Test set shape: {X_test_scaled.shape}\")"
   ],
   "id": "ce9013da02f77b06",
   "outputs": [
    {
     "name": "stdout",
     "output_type": "stream",
     "text": [
      "Training set shape: (48000, 784)\n",
      "Validation set shape: (12000, 784)\n",
      "Test set shape: (10000, 784)\n"
     ]
    }
   ],
   "execution_count": 13
  },
  {
   "metadata": {
    "ExecuteTime": {
     "end_time": "2025-02-01T14:00:34.266334Z",
     "start_time": "2025-02-01T14:00:34.262988Z"
    }
   },
   "cell_type": "code",
   "source": [
    "# Feature engineering with HOG\n",
    "def extract_hog_features(X):\n",
    "    features = []\n",
    "    for image in X.reshape(-1, 28, 28):\n",
    "        fd = hog(image, orientations=9, pixels_per_cell=(8, 8),\n",
    "                cells_per_block=(2, 2), visualize=False)\n",
    "        features.append(fd)\n",
    "    return np.array(features)"
   ],
   "id": "60c64f97368da140",
   "outputs": [],
   "execution_count": 14
  },
  {
   "metadata": {
    "ExecuteTime": {
     "end_time": "2025-02-01T14:01:27.731103Z",
     "start_time": "2025-02-01T14:01:23.389477Z"
    }
   },
   "cell_type": "code",
   "source": [
    "# Extract HOG features\n",
    "print('HOG feature extraction')\n",
    "X_train_hog = extract_hog_features(X_train)\n",
    "X_val_hog = extract_hog_features(X_val)\n",
    "X_test_hog = extract_hog_features(X_test)\n",
    "\n",
    "# Visualize HOG features for a sample image\n",
    "sample_image = X_train[0].reshape(28, 28)\n",
    "_, hog_image = hog(sample_image, orientations=9, pixels_per_cell=(8, 8),\n",
    "                  cells_per_block=(2, 2), visualize=True)\n",
    "\n",
    "plt.figure(figsize=(10, 5))\n",
    "plt.subplot(121)\n",
    "plt.imshow(sample_image, cmap='gray')\n",
    "plt.title('Original Image')\n",
    "plt.axis('off')\n",
    "plt.subplot(122)\n",
    "plt.imshow(hog_image, cmap='gray')\n",
    "plt.title('HOG Features')\n",
    "plt.axis('off')\n",
    "plt.show()"
   ],
   "id": "d402bd0bfc825b9b",
   "outputs": [
    {
     "name": "stdout",
     "output_type": "stream",
     "text": [
      "HOG feature extraction\n"
     ]
    },
    {
     "data": {
      "text/plain": [
       "<Figure size 1000x500 with 2 Axes>"
      ],
      "image/png": "[encoded data removed]"
     },
     "metadata": {},
     "output_type": "display_data"
    }
   ],
   "execution_count": 15
  },
  {
   "metadata": {
    "ExecuteTime": {
     "end_time": "2025-02-01T14:56:36.859551Z",
     "start_time": "2025-02-01T14:56:36.853188Z"
    }
   },
   "cell_type": "code",
   "source": [
    "# Grid search\n",
    "# Prep\n",
    "# Utilize GPU if possible\n",
    "def get_device():\n",
    "    if torch.backends.mps.is_available():\n",
    "        device = torch.device(\"mps\")\n",
    "        print('Apple mps available')\n",
    "    elif torch.cuda.is_available():\n",
    "        device = torch.device(\"cuda\")\n",
    "        print('NVIDIA cuda available')\n",
    "    else:\n",
    "        device = torch.device(\"cpu\")\n",
    "        print('default to cpu')\n",
    "    return device\n",
    "device = get_device()\n",
    "\n",
    "class HOGFeatureExtractor(BaseEstimator, TransformerMixin):\n",
    "    def __init__(self, orientations=9, pixels_per_cell=(8, 8), cells_per_block=(2, 2)):\n",
    "        self.orientations = orientations\n",
    "        self.pixels_per_cell = pixels_per_cell\n",
    "        self.cells_per_block = cells_per_block\n",
    "\n",
    "    def fit(self, X, y=None):\n",
    "        return self\n",
    "\n",
    "    def transform(self, X):\n",
    "        features = []\n",
    "        for image in tqdm(X.reshape(-1, 28, 28), desc=\"Extracting HOG features\"):\n",
    "            fd = hog(image,\n",
    "                     orientations=self.orientations,\n",
    "                     pixels_per_cell=self.pixels_per_cell,\n",
    "                     cells_per_block=self.cells_per_block,\n",
    "                     visualize=False)\n",
    "            features.append(fd)\n",
    "        return np.array(features)\n"
   ],
   "id": "ca6b6737d6eb1bfb",
   "outputs": [
    {
     "name": "stdout",
     "output_type": "stream",
     "text": [
      "Apple mps available\n"
     ]
    }
   ],
   "execution_count": 26
  },
  {
   "metadata": {
    "ExecuteTime": {
     "end_time": "2025-02-01T15:02:06.189270Z",
     "start_time": "2025-02-01T14:57:54.606724Z"
    }
   },
   "cell_type": "code",
   "source": [
    "# Create a pipeline\n",
    "pipeline = Pipeline([\n",
    "    ('hog', HOGFeatureExtractor()),\n",
    "    ('scaler', StandardScaler()),  # Standardize features\n",
    "    ('svm', LinearSVC(max_iter=10000))\n",
    "])\n",
    "\n",
    "# Define parameter grid for grid search\n",
    "param_grid = {\n",
    "    'hog__orientations': [8, 9],\n",
    "    'hog__pixels_per_cell': [(6, 6), (8, 8)],\n",
    "    'hog__cells_per_block': [(2, 2)],\n",
    "    'svm__C': [0.1, 1, 10]\n",
    "}\n",
    "\n",
    "# Perform grid search with cross-validation\n",
    "grid_search = GridSearchCV(\n",
    "    pipeline,\n",
    "    param_grid,\n",
    "    cv=3,\n",
    "    n_jobs=-1,\n",
    "    verbose=2,\n",
    "    scoring='accuracy'\n",
    ")\n",
    "\n",
    "# Combine train and validation sets for grid search\n",
    "X_combined = np.vstack((X_train, X_val))\n",
    "y_combined = np.concatenate((y_train, y_val))\n",
    "\n",
    "# Fit grid search\n",
    "grid_search.fit(X_combined, y_combined)\n",
    "\n",
    "# Output the best parameters and estimator\n",
    "print(\"Best parameters found:\", grid_search.best_params_)\n",
    "best_model = grid_search.best_estimator_"
   ],
   "id": "cfc29b3f6f1cff52",
   "outputs": [
    {
     "name": "stdout",
     "output_type": "stream",
     "text": [
      "Fitting 3 folds for each of 12 candidates, totalling 36 fits\n"
     ]
    },
    {
     "name": "stderr",
     "output_type": "stream",
     "text": [
      "Extracting HOG features: 100%|██████████| 40000/40000 [00:03<00:00, 11066.83it/s]\n",
      "Extracting HOG features: 100%|██████████| 40000/40000 [00:04<00:00, 9410.96it/s]\n",
      "Extracting HOG features: 100%|██████████| 40000/40000 [00:05<00:00, 7349.24it/s]\n",
      "Extracting HOG features: 100%|██████████| 40000/40000 [00:05<00:00, 7313.61it/s]\n",
      "Extracting HOG features: 100%|██████████| 40000/40000 [00:05<00:00, 7302.59it/s]\n",
      "Extracting HOG features: 100%|██████████| 40000/40000 [00:05<00:00, 7071.79it/s]\n",
      "Extracting HOG features: 100%|██████████| 40000/40000 [00:05<00:00, 7066.98it/s]\n",
      "Extracting HOG features: 100%|██████████| 40000/40000 [00:05<00:00, 7026.31it/s]\n",
      "Extracting HOG features: 100%|██████████| 40000/40000 [00:05<00:00, 6747.95it/s]\n",
      "Extracting HOG features: 100%|██████████| 40000/40000 [00:06<00:00, 6663.68it/s]\n",
      "Extracting HOG features: 100%|██████████| 20000/20000 [00:01<00:00, 11051.51it/s]\n"
     ]
    },
    {
     "name": "stdout",
     "output_type": "stream",
     "text": [
      "[CV] END hog__cells_per_block=(2, 2), hog__orientations=8, hog__pixels_per_cell=(8, 8), svm__C=0.1; total time=  25.4s\n"
     ]
    },
    {
     "name": "stderr",
     "output_type": "stream",
     "text": [
      "Extracting HOG features: 100%|██████████| 40000/40000 [00:03<00:00, 11652.06it/s]\n",
      "Extracting HOG features: 100%|██████████| 20000/20000 [00:03<00:00, 5062.15it/s]\n",
      "Extracting HOG features:   2%|▏         | 720/40000 [00:00<00:05, 7178.46it/s]s]"
     ]
    },
    {
     "name": "stdout",
     "output_type": "stream",
     "text": [
      "[CV] END hog__cells_per_block=(2, 2), hog__orientations=8, hog__pixels_per_cell=(6, 6), svm__C=0.1; total time=  44.9s\n"
     ]
    },
    {
     "name": "stderr",
     "output_type": "stream",
     "text": [
      "Extracting HOG features: 100%|██████████| 20000/20000 [00:04<00:00, 4833.94it/s]\n",
      "Extracting HOG features:  10%|█         | 4162/40000 [00:00<00:04, 8477.73it/s]"
     ]
    },
    {
     "name": "stdout",
     "output_type": "stream",
     "text": [
      "[CV] END hog__cells_per_block=(2, 2), hog__orientations=8, hog__pixels_per_cell=(6, 6), svm__C=0.1; total time=  45.4s\n"
     ]
    },
    {
     "name": "stderr",
     "output_type": "stream",
     "text": [
      "Extracting HOG features: 100%|██████████| 20000/20000 [00:03<00:00, 5721.48it/s]\n",
      "Extracting HOG features:  48%|████▊     | 9583/20000 [00:01<00:01, 5922.68it/s]]"
     ]
    },
    {
     "name": "stdout",
     "output_type": "stream",
     "text": [
      "[CV] END hog__cells_per_block=(2, 2), hog__orientations=8, hog__pixels_per_cell=(6, 6), svm__C=10; total time=  47.5s\n"
     ]
    },
    {
     "name": "stderr",
     "output_type": "stream",
     "text": [
      "Extracting HOG features: 100%|██████████| 20000/20000 [00:03<00:00, 5887.24it/s]\n",
      "Extracting HOG features:  36%|███▌      | 7232/20000 [00:00<00:00, 14668.51it/s]]"
     ]
    },
    {
     "name": "stdout",
     "output_type": "stream",
     "text": [
      "[CV] END hog__cells_per_block=(2, 2), hog__orientations=8, hog__pixels_per_cell=(6, 6), svm__C=1; total time=  48.0s\n"
     ]
    },
    {
     "name": "stderr",
     "output_type": "stream",
     "text": [
      "Extracting HOG features: 100%|██████████| 20000/20000 [00:01<00:00, 14366.13it/s]\n",
      "Extracting HOG features: 100%|██████████| 40000/40000 [00:04<00:00, 9285.59it/s]]\n",
      "Extracting HOG features:  46%|████▋     | 18514/40000 [00:01<00:01, 11067.39it/s]"
     ]
    },
    {
     "name": "stdout",
     "output_type": "stream",
     "text": [
      "[CV] END hog__cells_per_block=(2, 2), hog__orientations=8, hog__pixels_per_cell=(8, 8), svm__C=0.1; total time=  23.7s\n"
     ]
    },
    {
     "name": "stderr",
     "output_type": "stream",
     "text": [
      "Extracting HOG features: 100%|██████████| 20000/20000 [00:03<00:00, 5770.01it/s]]\n",
      "Extracting HOG features: 100%|██████████| 40000/40000 [00:04<00:00, 9395.18it/s] \n",
      "Extracting HOG features:  35%|███▌      | 14115/40000 [00:01<00:03, 8136.56it/s]"
     ]
    },
    {
     "name": "stdout",
     "output_type": "stream",
     "text": [
      "[CV] END hog__cells_per_block=(2, 2), hog__orientations=8, hog__pixels_per_cell=(6, 6), svm__C=0.1; total time=  49.5s\n"
     ]
    },
    {
     "name": "stderr",
     "output_type": "stream",
     "text": [
      "Extracting HOG features: 100%|██████████| 20000/20000 [00:03<00:00, 6665.93it/s] \n",
      "Extracting HOG features:  41%|████      | 16428/40000 [00:01<00:02, 9672.04it/s]"
     ]
    },
    {
     "name": "stdout",
     "output_type": "stream",
     "text": [
      "[CV] END hog__cells_per_block=(2, 2), hog__orientations=8, hog__pixels_per_cell=(6, 6), svm__C=1; total time=  49.9s\n"
     ]
    },
    {
     "name": "stderr",
     "output_type": "stream",
     "text": [
      "Extracting HOG features: 100%|██████████| 40000/40000 [00:03<00:00, 10305.42it/s]\n",
      "Extracting HOG features: 100%|██████████| 40000/40000 [00:02<00:00, 14408.40it/s]\n",
      "Extracting HOG features: 100%|██████████| 40000/40000 [00:04<00:00, 9586.00it/s]]\n",
      "Extracting HOG features: 100%|██████████| 40000/40000 [00:03<00:00, 10476.32it/s]\n",
      "Extracting HOG features: 100%|██████████| 40000/40000 [00:03<00:00, 10529.72it/s]\n",
      "Extracting HOG features: 100%|██████████| 20000/20000 [00:02<00:00, 6754.30it/s]\n",
      "Extracting HOG features:   2%|▏         | 754/40000 [00:00<00:05, 7536.68it/s]s]"
     ]
    },
    {
     "name": "stdout",
     "output_type": "stream",
     "text": [
      "[CV] END hog__cells_per_block=(2, 2), hog__orientations=8, hog__pixels_per_cell=(6, 6), svm__C=10; total time=  54.6s\n"
     ]
    },
    {
     "name": "stderr",
     "output_type": "stream",
     "text": [
      "Extracting HOG features: 100%|██████████| 20000/20000 [00:03<00:00, 6395.44it/s]\n",
      "Extracting HOG features:   1%|▏         | 592/40000 [00:00<00:06, 5911.24it/s]]"
     ]
    },
    {
     "name": "stdout",
     "output_type": "stream",
     "text": [
      "[CV] END hog__cells_per_block=(2, 2), hog__orientations=8, hog__pixels_per_cell=(6, 6), svm__C=1; total time=  56.0s\n"
     ]
    },
    {
     "name": "stderr",
     "output_type": "stream",
     "text": [
      "Extracting HOG features: 100%|██████████| 40000/40000 [00:05<00:00, 6806.18it/s]\n",
      "Extracting HOG features: 100%|██████████| 40000/40000 [00:06<00:00, 6218.92it/s]\n",
      "Extracting HOG features: 100%|██████████| 20000/20000 [00:03<00:00, 5987.93it/s]\n"
     ]
    },
    {
     "name": "stdout",
     "output_type": "stream",
     "text": [
      "[CV] END hog__cells_per_block=(2, 2), hog__orientations=8, hog__pixels_per_cell=(6, 6), svm__C=10; total time= 1.1min\n"
     ]
    },
    {
     "name": "stderr",
     "output_type": "stream",
     "text": [
      "Extracting HOG features: 100%|██████████| 20000/20000 [00:01<00:00, 13701.59it/s]\n",
      "Extracting HOG features:   0%|          | 0/40000 [00:00<?, ?it/s], 6440.00it/s]"
     ]
    },
    {
     "name": "stdout",
     "output_type": "stream",
     "text": [
      "[CV] END hog__cells_per_block=(2, 2), hog__orientations=8, hog__pixels_per_cell=(8, 8), svm__C=10; total time=  21.4s\n"
     ]
    },
    {
     "name": "stderr",
     "output_type": "stream",
     "text": [
      "Extracting HOG features: 100%|██████████| 20000/20000 [00:02<00:00, 9472.69it/s]]\n",
      "Extracting HOG features: 100%|██████████| 20000/20000 [00:02<00:00, 9960.09it/s] \n",
      "Extracting HOG features:   0%|          | 0/40000 [00:00<?, ?it/s] 8968.38it/s]s]"
     ]
    },
    {
     "name": "stdout",
     "output_type": "stream",
     "text": [
      "[CV] END hog__cells_per_block=(2, 2), hog__orientations=8, hog__pixels_per_cell=(8, 8), svm__C=0.1; total time=  28.3s\n",
      "[CV] END hog__cells_per_block=(2, 2), hog__orientations=8, hog__pixels_per_cell=(8, 8), svm__C=1; total time=  27.9s\n"
     ]
    },
    {
     "name": "stderr",
     "output_type": "stream",
     "text": [
      "Extracting HOG features: 100%|██████████| 40000/40000 [00:06<00:00, 5961.17it/s]]\n",
      "Extracting HOG features: 100%|██████████| 20000/20000 [00:01<00:00, 13864.76it/s]\n",
      "Extracting HOG features:  10%|▉         | 3970/40000 [00:00<00:06, 5958.61it/s]"
     ]
    },
    {
     "name": "stdout",
     "output_type": "stream",
     "text": [
      "[CV] END hog__cells_per_block=(2, 2), hog__orientations=8, hog__pixels_per_cell=(8, 8), svm__C=10; total time=  24.1s\n"
     ]
    },
    {
     "name": "stderr",
     "output_type": "stream",
     "text": [
      "Extracting HOG features: 100%|██████████| 20000/20000 [00:02<00:00, 9176.54it/s]\n",
      "Extracting HOG features:   1%|▏         | 573/40000 [00:00<00:06, 5720.57it/s]s]"
     ]
    },
    {
     "name": "stdout",
     "output_type": "stream",
     "text": [
      "[CV] END hog__cells_per_block=(2, 2), hog__orientations=8, hog__pixels_per_cell=(8, 8), svm__C=1; total time=  27.3s\n"
     ]
    },
    {
     "name": "stderr",
     "output_type": "stream",
     "text": [
      "Extracting HOG features: 100%|██████████| 20000/20000 [00:01<00:00, 13964.59it/s]\n",
      "Extracting HOG features:  24%|██▎       | 9404/40000 [00:01<00:05, 5423.52it/s]]"
     ]
    },
    {
     "name": "stdout",
     "output_type": "stream",
     "text": [
      "[CV] END hog__cells_per_block=(2, 2), hog__orientations=8, hog__pixels_per_cell=(8, 8), svm__C=10; total time=  26.8s\n"
     ]
    },
    {
     "name": "stderr",
     "output_type": "stream",
     "text": [
      "Extracting HOG features: 100%|██████████| 20000/20000 [00:02<00:00, 9388.19it/s]\n",
      "Extracting HOG features:   0%|          | 0/40000 [00:00<?, ?it/s], 6600.23it/s]"
     ]
    },
    {
     "name": "stdout",
     "output_type": "stream",
     "text": [
      "[CV] END hog__cells_per_block=(2, 2), hog__orientations=8, hog__pixels_per_cell=(8, 8), svm__C=1; total time=  29.0s\n"
     ]
    },
    {
     "name": "stderr",
     "output_type": "stream",
     "text": [
      "Extracting HOG features: 100%|██████████| 40000/40000 [00:06<00:00, 6097.96it/s]\n",
      "Extracting HOG features: 100%|██████████| 40000/40000 [00:06<00:00, 5878.53it/s]\n",
      "Extracting HOG features: 100%|██████████| 40000/40000 [00:06<00:00, 5736.25it/s]\n",
      "Extracting HOG features: 100%|██████████| 40000/40000 [00:06<00:00, 5988.48it/s]\n",
      "Extracting HOG features: 100%|██████████| 40000/40000 [00:04<00:00, 8423.43it/s]\n",
      "Extracting HOG features: 100%|██████████| 40000/40000 [00:07<00:00, 5451.23it/s]\n",
      "Extracting HOG features: 100%|██████████| 40000/40000 [00:08<00:00, 4816.77it/s]\n",
      "Extracting HOG features: 100%|██████████| 20000/20000 [00:03<00:00, 5124.33it/s]\n",
      "Extracting HOG features:   0%|          | 0/40000 [00:00<?, ?it/s]"
     ]
    },
    {
     "name": "stdout",
     "output_type": "stream",
     "text": [
      "[CV] END hog__cells_per_block=(2, 2), hog__orientations=9, hog__pixels_per_cell=(6, 6), svm__C=0.1; total time=  46.1s\n"
     ]
    },
    {
     "name": "stderr",
     "output_type": "stream",
     "text": [
      "Extracting HOG features: 100%|██████████| 40000/40000 [00:06<00:00, 6466.26it/s] \n",
      "Extracting HOG features: 100%|██████████| 20000/20000 [00:04<00:00, 4843.74it/s]\n",
      "Extracting HOG features:   0%|          | 0/40000 [00:00<?, ?it/s], 8618.03it/s]"
     ]
    },
    {
     "name": "stdout",
     "output_type": "stream",
     "text": [
      "[CV] END hog__cells_per_block=(2, 2), hog__orientations=9, hog__pixels_per_cell=(6, 6), svm__C=0.1; total time=  58.4s\n"
     ]
    },
    {
     "name": "stderr",
     "output_type": "stream",
     "text": [
      "Extracting HOG features: 100%|██████████| 20000/20000 [00:02<00:00, 7661.84it/s]\n",
      "Extracting HOG features:  23%|██▎       | 9142/40000 [00:01<00:03, 9435.63it/s]"
     ]
    },
    {
     "name": "stdout",
     "output_type": "stream",
     "text": [
      "[CV] END hog__cells_per_block=(2, 2), hog__orientations=9, hog__pixels_per_cell=(8, 8), svm__C=0.1; total time=  38.6s\n"
     ]
    },
    {
     "name": "stderr",
     "output_type": "stream",
     "text": [
      "Extracting HOG features: 100%|██████████| 20000/20000 [00:03<00:00, 6318.23it/s] \n",
      "Extracting HOG features:   0%|          | 0/40000 [00:00<?, ?it/s], 10411.31it/s]"
     ]
    },
    {
     "name": "stdout",
     "output_type": "stream",
     "text": [
      "[CV] END hog__cells_per_block=(2, 2), hog__orientations=9, hog__pixels_per_cell=(6, 6), svm__C=0.1; total time=  51.5s\n"
     ]
    },
    {
     "name": "stderr",
     "output_type": "stream",
     "text": [
      "Extracting HOG features: 100%|██████████| 40000/40000 [00:04<00:00, 9251.54it/s] \n",
      "Extracting HOG features: 100%|██████████| 40000/40000 [00:04<00:00, 8870.09it/s] \n",
      "Extracting HOG features: 100%|██████████| 40000/40000 [00:04<00:00, 9381.90it/s] \n",
      "Extracting HOG features: 100%|██████████| 20000/20000 [00:02<00:00, 9722.79it/s] \n",
      "Extracting HOG features:  29%|██▉       | 5756/20000 [00:00<00:02, 6252.23it/s]]"
     ]
    },
    {
     "name": "stdout",
     "output_type": "stream",
     "text": [
      "[CV] END hog__cells_per_block=(2, 2), hog__orientations=9, hog__pixels_per_cell=(8, 8), svm__C=0.1; total time=  34.9s\n"
     ]
    },
    {
     "name": "stderr",
     "output_type": "stream",
     "text": [
      "Extracting HOG features: 100%|██████████| 20000/20000 [00:02<00:00, 7247.35it/s] \n",
      "Extracting HOG features:  40%|████      | 16155/40000 [00:01<00:02, 8096.64it/s]"
     ]
    },
    {
     "name": "stdout",
     "output_type": "stream",
     "text": [
      "[CV] END hog__cells_per_block=(2, 2), hog__orientations=9, hog__pixels_per_cell=(6, 6), svm__C=1; total time= 1.1min\n"
     ]
    },
    {
     "name": "stderr",
     "output_type": "stream",
     "text": [
      "Extracting HOG features:  45%|████▌     | 18036/40000 [00:01<00:02, 8704.13it/s]/Users/ygao/anaconda3/envs/B1b24advMLproject/lib/python3.12/site-packages/joblib/externals/loky/process_executor.py:752: UserWarning: A worker stopped while some jobs were given to the executor. This can be caused by a too short worker timeout or by a memory leak.\n",
      "  warnings.warn(\n",
      "Extracting HOG features: 100%|██████████| 20000/20000 [00:02<00:00, 6682.15it/s]\n",
      "Extracting HOG features:  61%|██████    | 24240/40000 [00:02<00:01, 9918.54it/s] "
     ]
    },
    {
     "name": "stdout",
     "output_type": "stream",
     "text": [
      "[CV] END hog__cells_per_block=(2, 2), hog__orientations=9, hog__pixels_per_cell=(6, 6), svm__C=1; total time= 1.1min\n"
     ]
    },
    {
     "name": "stderr",
     "output_type": "stream",
     "text": [
      "Extracting HOG features: 100%|██████████| 40000/40000 [00:04<00:00, 9793.07it/s]]\n",
      "Extracting HOG features: 100%|██████████| 20000/20000 [00:01<00:00, 13732.93it/s]\n",
      "Extracting HOG features:  65%|██████▌   | 26196/40000 [00:02<00:01, 9805.76it/s]"
     ]
    },
    {
     "name": "stdout",
     "output_type": "stream",
     "text": [
      "[CV] END hog__cells_per_block=(2, 2), hog__orientations=9, hog__pixels_per_cell=(8, 8), svm__C=1; total time=  26.3s\n"
     ]
    },
    {
     "name": "stderr",
     "output_type": "stream",
     "text": [
      "Extracting HOG features: 100%|██████████| 40000/40000 [00:03<00:00, 10777.47it/s]\n",
      "Extracting HOG features: 100%|██████████| 40000/40000 [00:03<00:00, 10024.82it/s]\n",
      "Extracting HOG features: 100%|██████████| 40000/40000 [00:02<00:00, 14026.15it/s]\n",
      "Extracting HOG features: 100%|██████████| 20000/20000 [00:02<00:00, 9059.23it/s]\n",
      "Extracting HOG features: 100%|██████████| 20000/20000 [00:01<00:00, 10402.85it/s]\n",
      "Extracting HOG features: 100%|██████████| 20000/20000 [00:01<00:00, 10435.28it/s]\n",
      "Extracting HOG features: 100%|██████████| 20000/20000 [00:01<00:00, 14943.05it/s]\n",
      "Extracting HOG features: 100%|██████████| 20000/20000 [00:01<00:00, 13737.92it/s]\n",
      "Extracting HOG features: 100%|██████████| 20000/20000 [00:01<00:00, 14431.86it/s]\n",
      "Extracting HOG features: 100%|██████████| 20000/20000 [00:01<00:00, 10185.64it/s]\n"
     ]
    },
    {
     "name": "stdout",
     "output_type": "stream",
     "text": [
      "[CV] END hog__cells_per_block=(2, 2), hog__orientations=9, hog__pixels_per_cell=(6, 6), svm__C=1; total time= 1.6min\n"
     ]
    },
    {
     "name": "stderr",
     "output_type": "stream",
     "text": [
      "Extracting HOG features: 100%|██████████| 20000/20000 [00:01<00:00, 10160.08it/s]\n",
      "Extracting HOG features: 100%|██████████| 20000/20000 [00:01<00:00, 10325.85it/s]\n"
     ]
    },
    {
     "name": "stdout",
     "output_type": "stream",
     "text": [
      "[CV] END hog__cells_per_block=(2, 2), hog__orientations=9, hog__pixels_per_cell=(6, 6), svm__C=10; total time= 1.9min\n"
     ]
    },
    {
     "name": "stderr",
     "output_type": "stream",
     "text": [
      "Extracting HOG features: 100%|██████████| 20000/20000 [00:01<00:00, 10453.97it/s]\n"
     ]
    },
    {
     "name": "stdout",
     "output_type": "stream",
     "text": [
      "[CV] END hog__cells_per_block=(2, 2), hog__orientations=9, hog__pixels_per_cell=(6, 6), svm__C=10; total time= 2.2min\n"
     ]
    },
    {
     "name": "stderr",
     "output_type": "stream",
     "text": [
      "Extracting HOG features: 100%|██████████| 60000/60000 [00:05<00:00, 10252.84it/s]\n"
     ]
    },
    {
     "name": "stdout",
     "output_type": "stream",
     "text": [
      "Best parameters found: {'hog__cells_per_block': (2, 2), 'hog__orientations': 9, 'hog__pixels_per_cell': (6, 6), 'svm__C': 0.1}\n"
     ]
    }
   ],
   "execution_count": 29
  },
  {
   "metadata": {
    "ExecuteTime": {
     "end_time": "2025-02-01T15:09:40.452490Z",
     "start_time": "2025-02-01T15:09:36.162838Z"
    }
   },
   "cell_type": "code",
   "source": [
    "# Best parameters\n",
    "def best_extract_hog_features(X, orientations=9, pixels_per_cell=(6, 6), cells_per_block=(2, 2)):\n",
    "    features = []\n",
    "    for image in X.reshape(-1, 28, 28):\n",
    "        fd = hog(image, orientations=orientations, pixels_per_cell=pixels_per_cell,\n",
    "                 cells_per_block=cells_per_block, visualize=False)\n",
    "        features.append(fd)\n",
    "    return np.array(features)\n",
    "print('Extracting HOG')\n",
    "X_train_hog_best = extract_hog_features(X_train)\n",
    "X_val_hog_best = extract_hog_features(X_val)\n",
    "X_test_hog_best = extract_hog_features(X_test)\n",
    "print('HOG feature extraction completed.')"
   ],
   "id": "4cc6da284a844e3b",
   "outputs": [
    {
     "name": "stdout",
     "output_type": "stream",
     "text": [
      "Extracting HOG\n",
      "HOG feature extraction completed.\n"
     ]
    }
   ],
   "execution_count": 31
  },
  {
   "metadata": {
    "ExecuteTime": {
     "end_time": "2025-02-01T15:09:41.811868Z",
     "start_time": "2025-02-01T15:09:41.732836Z"
    }
   },
   "cell_type": "code",
   "source": [
    "# Standardize\n",
    "scaler = StandardScaler()\n",
    "X_train_hog_best = scaler.fit_transform(X_train_hog_best)\n",
    "X_val_hog_best = scaler.transform(X_val_hog_best)\n",
    "X_test_hog_best = scaler.transform(X_test_hog_best)"
   ],
   "id": "e3a8437a592da621",
   "outputs": [],
   "execution_count": 32
  },
  {
   "metadata": {
    "ExecuteTime": {
     "end_time": "2025-02-01T15:09:59.162076Z",
     "start_time": "2025-02-01T15:09:43.992920Z"
    }
   },
   "cell_type": "code",
   "source": [
    "# Initialize the SVM with the best parameters\n",
    "svm = SVC(C=0.1, kernel='linear', random_state=192)\n",
    "\n",
    "# Fit the model on the combined training and validation set\n",
    "X_combined = np.vstack((X_train_hog_best, X_val_hog_best))\n",
    "y_combined = np.concatenate((y_train, y_val))\n",
    "svm.fit(X_combined, y_combined)\n",
    "print('Model training completed.')"
   ],
   "id": "7e458f4cd29707db",
   "outputs": [
    {
     "name": "stdout",
     "output_type": "stream",
     "text": [
      "Model training completed.\n"
     ]
    }
   ],
   "execution_count": 33
  },
  {
   "metadata": {
    "ExecuteTime": {
     "end_time": "2025-02-01T15:21:05.375060Z",
     "start_time": "2025-02-01T15:19:01.765164Z"
    }
   },
   "cell_type": "code",
   "source": [
    "def plot_learning_curves(estimator, X, y, cv, train_sizes):\n",
    "    train_sizes, train_scores, val_scores = learning_curve(\n",
    "        estimator, X, y, cv=cv, train_sizes=train_sizes, scoring='accuracy', n_jobs=-1\n",
    "    )\n",
    "\n",
    "    # Calculate mean and standard deviation for training and validation scores\n",
    "    train_mean = np.mean(train_scores, axis=1)\n",
    "    train_std = np.std(train_scores, axis=1)\n",
    "    val_mean = np.mean(val_scores, axis=1)\n",
    "    val_std = np.std(val_scores, axis=1)\n",
    "\n",
    "    # Plot learning curves\n",
    "    plt.figure(figsize=(10, 6))\n",
    "    plt.plot(train_sizes, train_mean, 'o-', color='r', label='Training')\n",
    "    plt.plot(train_sizes, val_mean, 'o-', color='g', label='Validation')\n",
    "    plt.fill_between(train_sizes, train_mean - train_std, train_mean + train_std, alpha=0.1, color='r')\n",
    "    plt.fill_between(train_sizes, val_mean - val_std, val_mean + val_std, alpha=0.1, color='g')\n",
    "    plt.title('Learning Curves')\n",
    "    plt.xlabel('Training Examples')\n",
    "    plt.ylabel('Accuracy')\n",
    "    plt.legend(loc='best')\n",
    "    plt.grid()\n",
    "    plt.show()\n",
    "\n",
    "# Plot learning curves using 5-fold cross-validation\n",
    "plot_learning_curves(svm, X_combined, y_combined, cv=5, train_sizes=np.linspace(0.1, 1.0, 10))"
   ],
   "id": "c58f5fa13113fca1",
   "outputs": [
    {
     "data": {
      "text/plain": [
       "<Figure size 1000x600 with 1 Axes>"
      ],
      "image/png": "[encoded data removed]"
     },
     "metadata": {},
     "output_type": "display_data"
    }
   ],
   "execution_count": 39
  },
  {
   "metadata": {
    "ExecuteTime": {
     "end_time": "2025-02-01T15:13:58.278277Z",
     "start_time": "2025-02-01T15:13:55.546911Z"
    }
   },
   "cell_type": "code",
   "source": [
    "# Predict on the test set\n",
    "y_pred = svm.predict(X_test_hog_best)\n",
    "\n",
    "# Print classification report\n",
    "print('Classification Report:')\n",
    "print(classification_report(y_test, y_pred))\n",
    "\n",
    "# Plot confusion matrix\n",
    "ConfusionMatrixDisplay.from_predictions(y_test, y_pred, cmap=plt.cm.Blues)\n",
    "plt.title('Confusion Matrix')\n",
    "plt.show()"
   ],
   "id": "9a3bb21926d469e0",
   "outputs": [
    {
     "name": "stdout",
     "output_type": "stream",
     "text": [
      "Classification Report:\n",
      "              precision    recall  f1-score   support\n",
      "\n",
      "           0       0.97      0.99      0.98       980\n",
      "           1       0.98      0.98      0.98      1135\n",
      "           2       0.94      0.96      0.95      1032\n",
      "           3       0.94      0.96      0.95      1010\n",
      "           4       0.96      0.95      0.96       982\n",
      "           5       0.97      0.95      0.96       892\n",
      "           6       0.97      0.98      0.97       958\n",
      "           7       0.96      0.94      0.95      1028\n",
      "           8       0.96      0.94      0.95       974\n",
      "           9       0.95      0.94      0.94      1009\n",
      "\n",
      "    accuracy                           0.96     10000\n",
      "   macro avg       0.96      0.96      0.96     10000\n",
      "weighted avg       0.96      0.96      0.96     10000\n",
      "\n"
     ]
    },
    {
     "data": {
      "text/plain": [
       "<Figure size 640x480 with 2 Axes>"
      ],
      "image/png": "[encoded data removed]"
     },
     "metadata": {},
     "output_type": "display_data"
    }
   ],
   "execution_count": 37
  },
  {
   "metadata": {},
   "cell_type": "code",
   "outputs": [],
   "execution_count": null,
   "source": "",
   "id": "211b617b2b3e19b5"
  }
 ],
 "metadata": {
  "kernelspec": {
   "display_name": "ml_ipykernel",
   "language": "python",
   "name": "ml_ipykernel"
  },
  "language_info": {
   "codemirror_mode": {
    "name": "ipython",
    "version": 2
   },
   "file_extension": ".py",
   "mimetype": "text/x-python",
   "name": "python",
   "nbconvert_exporter": "python",
   "pygments_lexer": "ipython2",
   "version": "2.7.6"
  }
 },
 "nbformat": 4,
 "nbformat_minor": 5
}
